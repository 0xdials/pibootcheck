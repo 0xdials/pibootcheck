{
 "cells": [
  {
   "cell_type": "markdown",
   "metadata": {},
   "source": [
    "# Exploration\n",
    "\n",
    "Load the JSON summary produced by `pi-forensics summarize` and inspect top domains/strings."
   ]
  },
  {
   "cell_type": "code",
   "execution_count": null,
   "metadata": {},
   "outputs": [],
   "source": [
    "import json\n",
    "from pathlib import Path\n",
    "import pandas as pd\n",
    "import matplotlib.pyplot as plt\n",
    "\n",
    "summary = json.load(open('output/<timestamp>/analysis/summary.json'))\n",
    "inds = summary.get('indicators', {})\n",
    "domains = inds.get('domains', [])\n",
    "df = pd.DataFrame(domains, columns=['domain','count'])\n",
    "df.head()\n",
    "plt.figure()\n",
    "df.head(20).set_index('domain')['count'].plot(kind='bar')\n",
    "plt.tight_layout()\n"
   ]
  }
 ],
 "metadata": {
  "kernelspec": {
   "display_name": "Python 3",
   "language": "python",
   "name": "python3"
  },
  "language_info": {
   "name": "python",
   "version": "3.10"
  }
 },
 "nbformat": 4,
 "nbformat_minor": 5
}

